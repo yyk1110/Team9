{
 "cells": [
  {
   "cell_type": "markdown",
   "metadata": {},
   "source": [
    "#참고 `https://savvy0402.tistory.com/31`"
   ]
  },
  {
   "cell_type": "code",
   "execution_count": 1,
   "metadata": {},
   "outputs": [
    {
     "name": "stdout",
     "output_type": "stream",
     "text": [
      "{'id': '22f93eed-7a1b-47b8-a18f-f5e311ba4c86', 'project': 'bede0097-721f-4019-ab17-030022fb00bd', 'iteration': '844462e5-c646-439d-8715-e8a6e008ce6a', 'created': '2024-12-16T08:03:39.944Z', 'predictions': [{'probability': 0.9056272, 'tagId': 'b314e37f-b4c0-48db-a9c1-cf6b239baea4', 'tagName': '11_Right-of-way at intersection', 'boundingBox': {'left': 0.12838736, 'top': 0.1512326, 'width': 0.7473445, 'height': 0.7616669}}, {'probability': 0.010566523, 'tagId': 'd7ba4813-61ba-4261-9c7f-bab6273dba46', 'tagName': '38_Keep right', 'boundingBox': {'left': 0.26368302, 'top': 0.022644162, 'width': 0.73631597, 'height': 0.63896054}}, {'probability': 0.0084882025, 'tagId': '67848fe2-3aff-4e94-a1bc-6e25c890a884', 'tagName': '17_No entry', 'boundingBox': {'left': 0.0, 'top': 0.25928983, 'width': 0.36698905, 'height': 0.66931796}}, {'probability': 0.007001962, 'tagId': '67848fe2-3aff-4e94-a1bc-6e25c890a884', 'tagName': '17_No entry', 'boundingBox': {'left': 0.09141165, 'top': 0.30795428, 'width': 0.8216984, 'height': 0.6746756}}, {'probability': 0.0054620476, 'tagId': '50bc1ce4-f115-4bff-8b2c-bb109bb266ef', 'tagName': '21_Double curve', 'boundingBox': {'left': 0.102003336, 'top': 0.22242129, 'width': 0.7985487, 'height': 0.7187861}}]}\n",
      "\n",
      "final tag: 11_Right-of-way at intersection\n"
     ]
    }
   ],
   "source": [
    "import requests\n",
    "\n",
    "# 1. URL 설정\n",
    "url = \"https://5a030cv-prediction.cognitiveservices.azure.com/customvision/v3.0/Prediction/bede0097-721f-4019-ab17-030022fb00bd/detect/iterations/preModel/image\"\n",
    "\n",
    "# 2&3. Headers 설정\n",
    "headers = {\n",
    "    \"Prediction-Key\": \"Eal5VuOQMtWpt3VhIFSTYOVO9NN5mwJiCwDQUUb6zrOmGAyWANx7JQQJ99ALACYeBjFXJ3w3AAAIACOGVJK3\",\n",
    "    \"Content-Type\": \"application/octet-stream\"\n",
    "}\n",
    "\n",
    "# 4. 이미지 파일 읽기\n",
    "image_path = \"archive/Test/12577.png\"\n",
    "#image_path = \"Fullimage.png\"\n",
    "with open(image_path, \"rb\") as image_file:\n",
    "    image_data = image_file.read()\n",
    "\n",
    "# 5. POST 요청 보내기\n",
    "response = requests.post(url, \n",
    "                        headers=headers, \n",
    "                        data=image_data)\n",
    "\n",
    "# 결과 확인\n",
    "result = response.json()\n",
    "print(result)\n",
    "\n",
    "# 가장 높은 probability를 가진 예측 찾기\n",
    "highest_probability_tag = max(result['predictions'], key=lambda x: x['probability'])\n",
    "tag_result = highest_probability_tag['tagName']\n",
    "\n",
    "# 결과 출력\n",
    "print(f\"\\nfinal tag: {tag_result}\")\n",
    "#print(f\"확률: {highest_probability_tag['probability']}\")"
   ]
  },
  {
   "cell_type": "markdown",
   "metadata": {},
   "source": [
    "##파일 안 여러 개 이미지를 동시에 처리하는 경우우"
   ]
  },
  {
   "cell_type": "code",
   "execution_count": 1,
   "metadata": {},
   "outputs": [
    {
     "name": "stdout",
     "output_type": "stream",
     "text": [
      "File: stop_sign_1.jpg, Tag: 1_Speed limit (30km/h), Probability: 0.7002701\n",
      "File: stop_sign_2.jpg, Tag: 17_No entry, Probability: 0.3492483\n",
      "File: stop_sign_3.jpg, Tag: 9_No passing, Probability: 0.42321515\n",
      "File: stop_sign_4.jpg, Tag: 18_General caution, Probability: 0.24677178\n",
      "File: stop_sign_5.jpg, Tag: 1_Speed limit (30km/h), Probability: 0.35002688\n",
      "File: stop_sign_6.jpg, Tag: 9_No passing, Probability: 0.90239674\n",
      "File: stop_sign_7.jpg, Tag: 1_Speed limit (30km/h), Probability: 0.4768156\n",
      "File: stop_sign_8.jpg, Tag: 24_Road narrows on the right, Probability: 0.86913335\n"
     ]
    }
   ],
   "source": [
    "import requests\n",
    "import os\n",
    "\n",
    "# 1. URL 설정\n",
    "url = \"https://5a030cv-prediction.cognitiveservices.azure.com/customvision/v3.0/Prediction/bede0097-721f-4019-ab17-030022fb00bd/detect/iterations/preModel/image\"\n",
    "# 2&3. Headers 설정\n",
    "headers = {\n",
    "    \"Prediction-Key\": \"Eal5VuOQMtWpt3VhIFSTYOVO9NN5mwJiCwDQUUb6zrOmGAyWANx7JQQJ99ALACYeBjFXJ3w3AAAIACOGVJK3\",\n",
    "    \"Content-Type\": \"application/octet-stream\"\n",
    "}\n",
    "\n",
    "# 4. 이미지 파일들이 있는 디렉토리 설정\n",
    "image_directory = \"cropped_images\"\n",
    "\n",
    "# 5. 결과를 저장할 리스트\n",
    "results = []\n",
    "\n",
    "# 6. 디렉토리 내의 모든 이미지 파일 처리\n",
    "for image_file in os.listdir(image_directory):\n",
    "    if image_file.endswith(('.png', '.jpg', '.jpeg')):  # 이미지 파일 확장자 확인\n",
    "        image_path = os.path.join(image_directory, image_file)\n",
    "        \n",
    "        # 이미지 파일 읽기\n",
    "        with open(image_path, \"rb\") as file:\n",
    "            image_data = file.read()\n",
    "        \n",
    "        # POST 요청 보내기\n",
    "        response = requests.post(url, headers=headers, data=image_data)\n",
    "        \n",
    "        # 결과 확인\n",
    "        result = response.json()\n",
    "        \n",
    "        # 가장 높은 probability를 가진 예측 찾기\n",
    "        highest_probability_tag = max(result['predictions'], key=lambda x: x['probability'])\n",
    "        tag_result = highest_probability_tag['tagName']\n",
    "        \n",
    "        # 결과 저장\n",
    "        results.append({\n",
    "            'file_name': image_file,\n",
    "            'tag': tag_result,\n",
    "            'probability': highest_probability_tag['probability']\n",
    "        })\n",
    "\n",
    "# 7. 결과 출력\n",
    "for result in results:\n",
    "    print(f\"File: {result['file_name']}, Tag: {result['tag']}, Probability: {result['probability']}\")\n"
   ]
  },
  {
   "cell_type": "code",
   "execution_count": null,
   "metadata": {},
   "outputs": [],
   "source": []
  }
 ],
 "metadata": {
  "kernelspec": {
   "display_name": "Python 3",
   "language": "python",
   "name": "python3"
  },
  "language_info": {
   "codemirror_mode": {
    "name": "ipython",
    "version": 3
   },
   "file_extension": ".py",
   "mimetype": "text/x-python",
   "name": "python",
   "nbconvert_exporter": "python",
   "pygments_lexer": "ipython3",
   "version": "3.12.5"
  }
 },
 "nbformat": 4,
 "nbformat_minor": 2
}
